{
  "cells": [
    {
      "cell_type": "code",
      "execution_count": null,
      "metadata": {
        "id": "JLZoJb3-PW4N"
      },
      "outputs": [],
      "source": [
        "from IPython.display import clear_output\n",
        "from google.colab import output"
      ]
    },
    {
      "cell_type": "code",
      "execution_count": null,
      "metadata": {
        "id": "sv_BM0GIzfD6"
      },
      "outputs": [],
      "source": [
        "types = [] # [\"http\"]\n",
        "tmp_dir = \"/tmp\"\n",
        "threads = int(input(\"BOTS? \"))\n",
        "token = input(\"Video ID? \")\n",
        "speed = 10"
      ]
    },
    {
      "cell_type": "code",
      "execution_count": null,
      "metadata": {
        "id": "eFdDdOdoOr2z"
      },
      "outputs": [],
      "source": [
        "intro = \"\"\"\n",
        "███████╗████████╗██████╗ ███████╗ █████╗ ███╗   ███╗      ██████╗  ██████╗ ████████╗████████╗███████╗██████╗\n",
        "██╔════╝╚══██╔══╝██╔══██╗██╔════╝██╔══██╗████╗ ████║      ██╔══██╗██╔═══██╗╚══██╔══╝╚══██╔══╝██╔════╝██╔══██╗\n",
        "███████╗   ██║   ██████╔╝█████╗  ███████║██╔████╔██║█████╗██████╔╝██║   ██║   ██║      ██║   █████╗  ██████╔╝\n",
        "╚════██║   ██║   ██╔══██╗██╔══╝  ██╔══██║██║╚██╔╝██║╚════╝██╔══██╗██║   ██║   ██║      ██║   ██╔══╝  ██╔══██╗\n",
        "███████║   ██║   ██║  ██║███████╗██║  ██║██║ ╚═╝ ██║      ██████╔╝╚██████╔╝   ██║      ██║   ███████╗██║  ██║\n",
        "╚══════╝   ╚═╝   ╚═╝  ╚═╝╚══════╝╚═╝  ╚═╝╚═╝     ╚═╝      ╚═════╝  ╚═════╝    ╚═╝      ╚═╝   ╚══════╝╚═╝  ╚═╝\n",
        " \n",
        "**OLD** https://github.com/KevinLage/YouTube-Livestream-Botter\n",
        "**NEW** https://github.com/DevelopersWork/YouTube-Livestream-Botter\n",
        "\"\"\""
      ]
    },
    {
      "cell_type": "code",
      "execution_count": null,
      "metadata": {
        "id": "YUrHOVtoxFEA"
      },
      "outputs": [],
      "source": [
        "!git init .\n",
        "!git remote add -t \\* -f origin https://github.com/DevelopersWork/YouTube-Livestream-Botter.git\n",
        "!git checkout master\n",
        "clear_output(wait=True)\n",
        "output.clear()\n",
        "!git pull origin master"
      ]
    },
    {
      "cell_type": "code",
      "execution_count": null,
      "metadata": {
        "id": "TXpHs4Kjwa2e"
      },
      "outputs": [],
      "source": [
        "# !sh build.sh\n",
        "!pip install -r requirements.txt -q\n",
        "!pip install -r requirements.txt -q\n",
        "clear_output(wait=True)\n",
        "output.clear()"
      ]
    },
    {
      "cell_type": "code",
      "execution_count": null,
      "metadata": {
        "id": "nGHASKLmxww1"
      },
      "outputs": [],
      "source": [
        "import time\n",
        "import random\n",
        "\n",
        "from ViewBot.Manager import Manager\n",
        "from ViewBot.Proxy import Proxy\n",
        "from ViewBot.Bot import Bot\n",
        "# from ViewBot.Browser import Browser"
      ]
    },
    {
      "cell_type": "code",
      "execution_count": null,
      "metadata": {
        "id": "sefqTypJe7bp"
      },
      "outputs": [],
      "source": [
        "proxy = Proxy(types)\n",
        "manager = Manager(proxy, speed)\n",
        "manager.intro = intro\n",
        "browser = None\n",
        "# browser = Browser()\n",
        "bot = Bot(proxy, manager, browser)\n",
        "manager.print()"
      ]
    },
    {
      "cell_type": "code",
      "execution_count": null,
      "metadata": {
        "id": "h56M6m0lfQhB"
      },
      "outputs": [],
      "source": [
        "bot.run = True\n",
        "bot.setBot(token)\n",
        "bot.setThreads(threads)\n",
        "bot.start()\n",
        "clear_output(wait=True)\n",
        "output.clear()"
      ]
    },
    {
      "cell_type": "code",
      "execution_count": null,
      "metadata": {
        "id": "mYmD0ODpfQcd"
      },
      "outputs": [],
      "source": [
        "while manager.get('active') or manager.get('request'):\n",
        "      manager.print(False)\n",
        "      time.sleep(random.randint((3 - speed) if speed < 3 else 0, (15 - speed) + 1))\n",
        "      clear_output(wait=True)\n",
        "      output.clear()"
      ]
    },
    {
      "cell_type": "code",
      "execution_count": null,
      "metadata": {
        "id": "k6GxRf9ipCE4"
      },
      "outputs": [],
      "source": [
        "bot.run = False\n",
        "token = \"\"\n",
        "threads = 0\n",
        "bot.setBot(token)\n",
        "bot.setThreads(threads)\n",
        "output.clear()"
      ]
    },
    {
      "cell_type": "code",
      "execution_count": null,
      "metadata": {
        "id": "dEJM51Krs2Jb"
      },
      "outputs": [],
      "source": [
        "from ViewBot.ProxyFilter import ProxyFilter\n",
        "proxy_filter = ProxyFilter(proxy)\n",
        "proxy_filter.start(True)\n",
        "\"\\n\".join(proxy_filter.getDead())"
      ]
    },
    {
      "cell_type": "code",
      "execution_count": null,
      "metadata": {
        "id": "7TeDskZuo-No"
      },
      "outputs": [],
      "source": [
        "# !echo \"\" > /tmp/viewbot/logs/logs.txt\n",
        "# !cat /tmp/viewbot/logs/logs.txt\n",
        "# !cp /tmp/viewbot/logs/logs.txt ./logs.txt\n",
        "# !cat /tmp/viewbot/proxies/dead.txt"
      ]
    }
  ],
  "metadata": {
    "colab": {
      "collapsed_sections": [],
      "name": "YouTube Livestream View BOT.ipynb",
      "private_outputs": true,
      "provenance": []
    },
    "kernelspec": {
      "display_name": "Python 3",
      "name": "python3"
    }
  },
  "nbformat": 4,
  "nbformat_minor": 0
}
